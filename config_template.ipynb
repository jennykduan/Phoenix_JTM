{
 "cells": [
  {
   "cell_type": "code",
   "execution_count": null,
   "id": "de01ce3e",
   "metadata": {},
   "outputs": [],
   "source": [
    "credentials = {\n",
    "    'USERNAME': '', # Snowflake username\n",
    "    'PASSWORD': '', # Snowflake password\n",
    "    'WAREHOUSE': 'WH_2_XS', #Ex: WH_2_XS\n",
    "    'CENSUS_API_KEY': 'c308ff7a0a0e98cb16915f5efb2087dede2b5a2d',\n",
    "    'BLS_API_KEY': 'e15612437ab14bc6b1da71e303e00795',\n",
    "    'COLLEGE_SCORECARD_API_KEY': 'Lgl3XkoxUDeYf0B4DQn8ohO1GRXsIaTSTPqLs3AF'\n",
    "}"
   ]
  }
 ],
 "metadata": {
  "language_info": {
   "name": "python"
  }
 },
 "nbformat": 4,
 "nbformat_minor": 5
}
